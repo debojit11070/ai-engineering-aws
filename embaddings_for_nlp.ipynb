{
  "nbformat": 4,
  "nbformat_minor": 0,
  "metadata": {
    "colab": {
      "provenance": [],
      "authorship_tag": "ABX9TyOks8soVSHsNP4Gi1o6zwqu",
      "include_colab_link": true
    },
    "kernelspec": {
      "name": "python3",
      "display_name": "Python 3"
    },
    "language_info": {
      "name": "python"
    }
  },
  "cells": [
    {
      "cell_type": "markdown",
      "metadata": {
        "id": "view-in-github",
        "colab_type": "text"
      },
      "source": [
        "<a href=\"https://colab.research.google.com/github/debojit11070/ai-engineering-aws/blob/main/embaddings_for_nlp.ipynb\" target=\"_parent\"><img src=\"https://colab.research.google.com/assets/colab-badge.svg\" alt=\"Open In Colab\"/></a>"
      ]
    },
    {
      "cell_type": "code",
      "execution_count": 4,
      "metadata": {
        "id": "e_dYK9hoHqT_"
      },
      "outputs": [],
      "source": [
        "from importlib.metadata import version\n",
        "import tiktoken\n",
        "import torch"
      ]
    },
    {
      "cell_type": "code",
      "source": [
        "print(version(\"torch\"))"
      ],
      "metadata": {
        "id": "huUiQN8zIL5r",
        "colab": {
          "base_uri": "https://localhost:8080/"
        },
        "outputId": "347da648-f2bd-43c2-dca4-68569c6337bf"
      },
      "execution_count": 2,
      "outputs": [
        {
          "metadata": {
            "tags": null
          },
          "name": "stdout",
          "output_type": "stream",
          "text": [
            "2.6.0+cu124\n"
          ]
        }
      ]
    },
    {
      "cell_type": "code",
      "source": [
        "print(version(\"tiktoken\"))"
      ],
      "metadata": {
        "id": "hLfmQFuNIOFm",
        "colab": {
          "base_uri": "https://localhost:8080/"
        },
        "outputId": "3c0e6eec-2b7e-4bc8-9d8b-2f2d603b720f"
      },
      "execution_count": 3,
      "outputs": [
        {
          "metadata": {
            "tags": null
          },
          "name": "stdout",
          "output_type": "stream",
          "text": [
            "0.9.0\n"
          ]
        }
      ]
    },
    {
      "cell_type": "code",
      "source": [],
      "metadata": {
        "id": "9HDpHjRbIQJn"
      },
      "execution_count": null,
      "outputs": []
    }
  ]
}