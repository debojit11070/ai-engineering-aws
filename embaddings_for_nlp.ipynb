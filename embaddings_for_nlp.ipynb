{
  "nbformat": 4,
  "nbformat_minor": 0,
  "metadata": {
    "colab": {
      "provenance": [],
      "authorship_tag": "ABX9TyP5bE3VMhNFVKEx4OiK4J10",
      "include_colab_link": true
    },
    "kernelspec": {
      "name": "python3",
      "display_name": "Python 3"
    },
    "language_info": {
      "name": "python"
    }
  },
  "cells": [
    {
      "cell_type": "markdown",
      "metadata": {
        "id": "view-in-github",
        "colab_type": "text"
      },
      "source": [
        "<a href=\"https://colab.research.google.com/github/debojit11070/ai-engineering-aws/blob/main/embaddings_for_nlp.ipynb\" target=\"_parent\"><img src=\"https://colab.research.google.com/assets/colab-badge.svg\" alt=\"Open In Colab\"/></a>"
      ]
    },
    {
      "cell_type": "code",
      "execution_count": 1,
      "metadata": {
        "id": "e_dYK9hoHqT_"
      },
      "outputs": [],
      "source": [
        "from importlib.metadata import version\n",
        "import tiktoken\n",
        "import torch"
      ]
    },
    {
      "cell_type": "code",
      "source": [
        "print(version(\"torch\"))"
      ],
      "metadata": {
        "id": "huUiQN8zIL5r",
        "colab": {
          "base_uri": "https://localhost:8080/"
        },
        "outputId": "23feae5d-4e96-4e9e-ab8b-055985563c20"
      },
      "execution_count": 2,
      "outputs": [
        {
          "output_type": "stream",
          "name": "stdout",
          "text": [
            "2.6.0+cu124\n"
          ]
        }
      ]
    },
    {
      "cell_type": "code",
      "source": [
        "print(version(\"tiktoken\"))"
      ],
      "metadata": {
        "id": "hLfmQFuNIOFm",
        "colab": {
          "base_uri": "https://localhost:8080/"
        },
        "outputId": "0736e856-2c7b-4ecc-fa09-caba82cdf247"
      },
      "execution_count": 3,
      "outputs": [
        {
          "output_type": "stream",
          "name": "stdout",
          "text": [
            "0.9.0\n"
          ]
        }
      ]
    },
    {
      "cell_type": "markdown",
      "source": [
        "##Loading the dataset"
      ],
      "metadata": {
        "id": "nz7J2jxiLcm6"
      }
    },
    {
      "cell_type": "code",
      "source": [
        "# Reading the whole file\n",
        "with open(\"/content/the-verdict.txt\", \"r\", encoding=\"latin-1\") as f:\n",
        "    raw_text = f.read()\n",
        "\n",
        "print(\"Total number of character:\", len(raw_text))\n",
        "print(raw_text[:99])"
      ],
      "metadata": {
        "id": "9HDpHjRbIQJn",
        "colab": {
          "base_uri": "https://localhost:8080/"
        },
        "outputId": "8144f994-7479-42fc-bb23-aa26c24f4f31"
      },
      "execution_count": 4,
      "outputs": [
        {
          "output_type": "stream",
          "name": "stdout",
          "text": [
            "Total number of character: 20479\n",
            "I HAD always thought Jack Gisburn rather a cheap genius--though a good fellow enough--so it was no \n"
          ]
        }
      ]
    },
    {
      "cell_type": "code",
      "source": [
        "# tokenizing the raw text\n",
        "import re\n",
        "preprocessed = re.split(r'([,.?_!\"()\\']|--|\\s)', raw_text)\n",
        "preprocessed = [item.strip() for item in preprocessed if item.strip()]\n",
        "\n",
        "print(preprocessed[:30])"
      ],
      "metadata": {
        "colab": {
          "base_uri": "https://localhost:8080/"
        },
        "id": "b3SEgvHqLqz1",
        "outputId": "3f457984-dd17-4e17-ae32-59796a6a1fcc"
      },
      "execution_count": 5,
      "outputs": [
        {
          "output_type": "stream",
          "name": "stdout",
          "text": [
            "['I', 'HAD', 'always', 'thought', 'Jack', 'Gisburn', 'rather', 'a', 'cheap', 'genius', '--', 'though', 'a', 'good', 'fellow', 'enough', '--', 'so', 'it', 'was', 'no', 'great', 'surprise', 'to', 'me', 'to', 'hear', 'that', ',', 'in']\n"
          ]
        }
      ]
    },
    {
      "cell_type": "code",
      "source": [
        "len(preprocessed)"
      ],
      "metadata": {
        "colab": {
          "base_uri": "https://localhost:8080/"
        },
        "id": "aBlXOplWNk34",
        "outputId": "72e43ffa-7c33-4c4a-f7ab-17cf1cb2f3dc"
      },
      "execution_count": 6,
      "outputs": [
        {
          "output_type": "execute_result",
          "data": {
            "text/plain": [
              "4649"
            ]
          },
          "metadata": {},
          "execution_count": 6
        }
      ]
    },
    {
      "cell_type": "markdown",
      "source": [
        "##convert tokens into token ids\n"
      ],
      "metadata": {
        "id": "r0Yjuw2I7qjk"
      }
    },
    {
      "cell_type": "code",
      "source": [],
      "metadata": {
        "id": "PG_pRsv5N0UR"
      },
      "execution_count": 6,
      "outputs": []
    }
  ]
}